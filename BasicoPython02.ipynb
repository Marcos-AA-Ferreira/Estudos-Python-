{
 "cells": [
  {
   "cell_type": "markdown",
   "metadata": {},
   "source": [
    "## OPERAÇÕES MATEMÁTICAS "
   ]
  },
  {
   "cell_type": "markdown",
   "metadata": {},
   "source": [
    "# Soma e substração \n",
    "Nas Soma e Substração, pode se realizada entre *int* e *float*, porém só pode se usada *str* nas Somas."
   ]
  },
  {
   "cell_type": "code",
   "execution_count": 16,
   "metadata": {},
   "outputs": [
    {
     "name": "stdout",
     "output_type": "stream",
     "text": [
      "10\n",
      "5.28\n",
      "109.01\n",
      "Físico química \n",
      "\n",
      "0\n",
      "-4.8\n",
      "-1.0\n"
     ]
    }
   ],
   "source": [
    "#Adição\n",
    "print(5+5)\n",
    "print(2.14+3.14)\n",
    "print(9+100.01)\n",
    "print('Físico '+'química','\\n')\n",
    "\n",
    "#Substração\n",
    "print(5-5)\n",
    "print(5.2-10)\n",
    "print(2.14-3.14)"
   ]
  },
  {
   "cell_type": "markdown",
   "metadata": {},
   "source": [
    "# Multiplicação e Divisão\n",
    "Nas Multiplicação e Divisão, pode se realizada entre *int* e *float*, porém só pode se usada *str* nas Multiplicação."
   ]
  },
  {
   "cell_type": "code",
   "execution_count": 15,
   "metadata": {},
   "outputs": [
    {
     "name": "stdout",
     "output_type": "stream",
     "text": [
      "25\n",
      "52.0\n",
      "1.6875\n",
      " Química Química Química \n",
      "\n",
      "0.52\n",
      "2.0\n",
      "-3.0\n"
     ]
    }
   ],
   "source": [
    "#Multi\n",
    "print(5*5)\n",
    "print(5.2*10)\n",
    "print(0.25*6.75)\n",
    "print(3*' Química','\\n')\n",
    "\n",
    "#Divisão\n",
    "print(5.2/10)\n",
    "print(6.28/3.14)\n",
    "print(-9/3)"
   ]
  },
  {
   "cell_type": "markdown",
   "metadata": {},
   "source": [
    "# Outras Operações"
   ]
  },
  {
   "cell_type": "code",
   "execution_count": 14,
   "metadata": {},
   "outputs": [
    {
     "name": "stdout",
     "output_type": "stream",
     "text": [
      "0.0\n",
      "2.0\n",
      "6 \n",
      "\n",
      "5.2\n",
      "0.0\n",
      "1 \n",
      "\n",
      "1024\n",
      "1380.3842646028852\n",
      "0.0013717421124828531\n"
     ]
    }
   ],
   "source": [
    "#Quociente\n",
    "print(5.2//10)\n",
    "print(6.28//3.14)\n",
    "print(13//2,'\\n')\n",
    "\n",
    "#Resto\n",
    "print(5.2%10)\n",
    "print(6.28%3.14)\n",
    "print(9%2,'\\n')\n",
    "\n",
    "#Potenciação\n",
    "print(2**10)\n",
    "print(10**3.14)\n",
    "print(9**-3)"
   ]
  },
  {
   "cell_type": "markdown",
   "metadata": {},
   "source": [
    "# Variáveis e Comando **Input**"
   ]
  },
  {
   "cell_type": "markdown",
   "metadata": {},
   "source": [
    "**Variáveis** são *str* que receber um valor (atribuição de valor), quando é usado o **=**;\n",
    "\n",
    "**Comando *Input()*** é uma função que permite o usuário possa inserir um valor (texto, número, ou outros dependedo do caso) dentro do código."
   ]
  },
  {
   "cell_type": "markdown",
   "metadata": {},
   "source": [
    "**Importante:** O Python não reconhece **,** nos números, pois para ele, isso é uma forma de separação de varíaveis, pois isso dever ser usado o ponto **.**."
   ]
  },
  {
   "cell_type": "markdown",
   "metadata": {},
   "source": [
    "**Importante:** O comando ***Input()*** reconhece o valor recebido com uma *str*, por isso deve ser convertido quando usado para calculo."
   ]
  },
  {
   "cell_type": "code",
   "execution_count": 28,
   "metadata": {},
   "outputs": [
    {
     "name": "stdout",
     "output_type": "stream",
     "text": [
      "3 \n",
      "\n",
      "2727272.7575\n",
      "O valor digitando foi 545454.5515\n",
      "O valor aredondando é igual: 2727273\n"
     ]
    },
    {
     "data": {
      "text/plain": [
       "'A função/método :.(n)f, permite definir a quantidade de casa decimais usada, onde (n) é o número desejado de casa decimais'"
      ]
     },
     "execution_count": 28,
     "metadata": {},
     "output_type": "execute_result"
    }
   ],
   "source": [
    "Exemplo = 1\n",
    "print(Exemplo+2,'\\n')\n",
    "\n",
    "Valor = float(input('Digite um valor: '))\n",
    "Resultado= 5*Valor\n",
    "print(Resultado)\n",
    "print(f'O valor digitando foi {Valor}') \n",
    "#O f'' é uma função que permite a formatação do texto no input numa forma mais simples, as chaves {} permite se adicionado o valor da variavel\n",
    "print(f'O valor aredondando é igual: {Resultado:.0f}')\n",
    "'''A função/método :.(n)f, permite definir a quantidade de casa decimais usada, onde (n) é o número desejado de casa decimais'''"
   ]
  },
  {
   "cell_type": "markdown",
   "metadata": {},
   "source": [
    "# **if**, **elif** e **else**"
   ]
  },
  {
   "cell_type": "markdown",
   "metadata": {},
   "source": [
    "A função **if** faz que certa ação ocorra ser uma condição for atendida (Só pode have um **if**, caso haja mais de duas condições usasse o **elif**);\n",
    "\n",
    "A função **elif** usada após o **if**, ou seja, a mais de uma condição;\n",
    "\n",
    "A função **else** é usada no final e chamar uma função para quando a condição não se encaixar no **if** ou **elif**."
   ]
  },
  {
   "cell_type": "code",
   "execution_count": 29,
   "metadata": {},
   "outputs": [
    {
     "name": "stdout",
     "output_type": "stream",
     "text": [
      "insaturada\n"
     ]
    }
   ],
   "source": [
    "T=float(input(\"Qual a temperatura da solução em 25 ou 50 °C: \"))\n",
    "\n",
    "if T==25:\n",
    "    SD = float(input(\"Qual a quantidade de soluto dissolvido em 1L de solvente em g: \"))\n",
    "    if SD<357:\n",
    "        print('insaturada')\n",
    "\n",
    "    elif SD==357:\n",
    "        print('saturada')\n",
    "\n",
    "    else:\n",
    "        print('supersaturada')\n",
    "\n",
    "\n",
    "elif T==50:\n",
    "    SD = float(input(\"Qual a quantidade de soluto dissolvido em 1L de solvente em g: \"))\n",
    "    if SD < 370:\n",
    "        print('insaturada')\n",
    "\n",
    "    elif SD == 370:\n",
    "        print('saturada')\n",
    "\n",
    "    else:\n",
    "        print('supersaturada')\n",
    "\n",
    "else:\n",
    "    print(f'não há dado para tal temperatura = {T}')"
   ]
  },
  {
   "cell_type": "markdown",
   "metadata": {},
   "source": [
    "# Estrutura de Repetição"
   ]
  },
  {
   "cell_type": "markdown",
   "metadata": {},
   "source": [
    "**for** é usada como um *para cada*, ou seja para cada ... faça tal ação."
   ]
  },
  {
   "cell_type": "code",
   "execution_count": 33,
   "metadata": {},
   "outputs": [
    {
     "name": "stdout",
     "output_type": "stream",
     "text": [
      "1\n",
      "0²+2=1 \n",
      "\n",
      "2\n",
      "1²+2=2 \n",
      "\n",
      "5\n",
      "2²+2=5 \n",
      "\n",
      "10\n",
      "3²+2=10 \n",
      "\n",
      "17\n",
      "4²+2=17 \n",
      "\n"
     ]
    }
   ],
   "source": [
    "for z in range(0,5): #range é usado para decorrer uma lista/sequencia.\n",
    "    resultado= z**2+1\n",
    "    print(resultado)\n",
    "    print(f'{z}²+2={(z**2)+1}','\\n')"
   ]
  },
  {
   "cell_type": "markdown",
   "metadata": {},
   "source": [
    "**while** faz que determinada ação ocorra até a condição do while se alcançada;"
   ]
  },
  {
   "cell_type": "code",
   "execution_count": 37,
   "metadata": {},
   "outputs": [
    {
     "name": "stdout",
     "output_type": "stream",
     "text": [
      "1\n",
      "2\n",
      "3\n",
      "4\n",
      "5\n",
      "analise terminou\n"
     ]
    }
   ],
   "source": [
    "numero = 0\n",
    "while numero < 5:\n",
    "    numero = numero +1\n",
    "    print(numero)\n",
    "print('analise terminou')"
   ]
  },
  {
   "cell_type": "markdown",
   "metadata": {},
   "source": [
    "A função **while** pode ser usada como loop;\n",
    "\n",
    "A função **break** é usado para interromper o código."
   ]
  },
  {
   "cell_type": "code",
   "execution_count": 39,
   "metadata": {},
   "outputs": [],
   "source": [
    "while True:\n",
    "    A=int(input('encolha a operação desejada:\\n'\n",
    "                '(1)Soma;\\n'\n",
    "                '(2)Subtração;\\n'\n",
    "                '(3)Multiplicação;\\n'\n",
    "                '(4)Pontenciação;\\n'\n",
    "                '(0)sair do programa.\\n'))\n",
    "\n",
    "    if A==1:\n",
    "        v1 = float(input('Digite um numero: '))\n",
    "        v2 = float(input('Digite um segundo numero: '))\n",
    "        R1=v1+v2\n",
    "        print(R1)\n",
    "\n",
    "    elif A==2:\n",
    "        v1 = float(input('Digite um numero: '))\n",
    "        v2 = float(input('Digite um segundo numero: '))\n",
    "        R2=v1-v2\n",
    "        print(R2)\n",
    "\n",
    "    elif A==3:\n",
    "        v1 = float(input('Digite um numero: '))\n",
    "        v2 = float(input('Digite um segundo numero: '))\n",
    "        R3=v1*v2\n",
    "        print(R3)\n",
    "\n",
    "    elif A==4:\n",
    "        v1 = float(input('Digite um numero: '))\n",
    "        v2 = float(input('Digite um segundo numero: '))\n",
    "        R4=v1**v2\n",
    "        print(R4)\n",
    "\n",
    "    elif A==0:\n",
    "        break\n",
    "\n",
    "    else:\n",
    "        A = int(input('encolha a operação desejada:\\n'\n",
    "                      '(1)Soma;\\n'\n",
    "                      '(2)Subtração;\\n'\n",
    "                      '(3)Multiplicação;\\n'\n",
    "                      '(4)Pontenciação;\\n'\n",
    "                      '(0)sair do programa.\\n'))"
   ]
  }
 ],
 "metadata": {
  "kernelspec": {
   "display_name": "Python 3",
   "language": "python",
   "name": "python3"
  },
  "language_info": {
   "codemirror_mode": {
    "name": "ipython",
    "version": 3
   },
   "file_extension": ".py",
   "mimetype": "text/x-python",
   "name": "python",
   "nbconvert_exporter": "python",
   "pygments_lexer": "ipython3",
   "version": "3.12.3"
  }
 },
 "nbformat": 4,
 "nbformat_minor": 2
}
