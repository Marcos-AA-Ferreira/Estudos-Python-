{
 "cells": [
  {
   "cell_type": "markdown",
   "metadata": {},
   "source": [
    "# Anotações sobre o Básico de Python.\n",
    "\n"
   ]
  },
  {
   "cell_type": "markdown",
   "metadata": {},
   "source": [
    "Existe dois tipos de comentário:\n",
    "    **#** é usado para comentar uma linha, comumente usada para explicar algo;\n",
    "    **''' '''** é usado para comentar uma parte do código."
   ]
  },
  {
   "cell_type": "code",
   "execution_count": null,
   "metadata": {},
   "outputs": [],
   "source": [
    "#comentário\n",
    "'''print(\"Hello World\")''' #Os '''...''' são uma forma de comentar uma parte do código"
   ]
  },
  {
   "cell_type": "markdown",
   "metadata": {},
   "source": [
    "A função **sep** é usada para adicionar um carácter ou uma informação entre argumentos;\n",
    "\n",
    "Já a função **end** faz o mesmo só que no final do argumento;\n",
    "\n",
    "**'\\n'** é usada para adicionar uma quebrar de linha ao output."
   ]
  },
  {
   "cell_type": "code",
   "execution_count": 3,
   "metadata": {},
   "outputs": [
    {
     "name": "stdout",
     "output_type": "stream",
     "text": [
      "Estou aprendendo python,\n",
      "isso é muito legal!"
     ]
    }
   ],
   "source": [
    "print(\"Estou aprendendo python\",'\\n' \"isso é muito legal\", sep=',', end='!')"
   ]
  },
  {
   "cell_type": "markdown",
   "metadata": {},
   "source": [
    "A função **type()** é usada para índica se determinado argumento é uma *str*, *int*, *float* ou *bool*."
   ]
  },
  {
   "cell_type": "code",
   "execution_count": 4,
   "metadata": {},
   "outputs": [
    {
     "name": "stdout",
     "output_type": "stream",
     "text": [
      "olá mundo <class 'str'>\n",
      "123 <class 'int'>\n",
      "2.5 <class 'float'>\n",
      "True <class 'bool'>\n",
      "123 <class 'str'>\n",
      "2.5 <class 'str'>\n",
      "False <class 'bool'>\n"
     ]
    }
   ],
   "source": [
    "print(\"olá mundo\",type(\"olá mundo\"))\n",
    "print(123,type(123))\n",
    "print(2.5,type(2.5))\n",
    "print(10 == 10,type(10 == 10))\n",
    "\n",
    "print(\"123\",type(\"123\"))\n",
    "print(\"2.5\",type(\"2.5\"))\n",
    "print(10==4,type(10==4))"
   ]
  },
  {
   "cell_type": "markdown",
   "metadata": {},
   "source": [
    "# Conversão de Classe em outra:"
   ]
  },
  {
   "cell_type": "markdown",
   "metadata": {},
   "source": [
    "\n",
    "   &nbsp;&nbsp;&nbsp; ***Lembrentes:***<br>\n",
    "        &nbsp;&nbsp;&nbsp;&nbsp;&nbsp;&nbsp;&nbsp;&nbsp;- Na conversão do *float* para *int* será considerado somente o número antes da virgula;\n",
    "        &nbsp;&nbsp;&nbsp;&nbsp;&nbsp;&nbsp;&nbsp;&nbsp;- Não é possível converter *str* para *int* ou para *float* ou para *bool*, exceto quando há valor númerico associado a *str* ou quando a *str* se tratar de um número;<br>\n",
    "        &nbsp;&nbsp;&nbsp;&nbsp;&nbsp;&nbsp;&nbsp;&nbsp;- A conversão de *bool* para *int* ou para *float* é um pouco diferente dos demais, com exceção para a converção para *str*."
   ]
  },
  {
   "cell_type": "code",
   "execution_count": 1,
   "metadata": {},
   "outputs": [
    {
     "name": "stdout",
     "output_type": "stream",
     "text": [
      "10 <class 'int'>\n",
      "10.0 <class 'float'>\n"
     ]
    }
   ],
   "source": [
    "#Conversão int para float\n",
    "print(10, type(10))\n",
    "print(float(10), type(float(10)))"
   ]
  },
  {
   "cell_type": "code",
   "execution_count": 2,
   "metadata": {},
   "outputs": [
    {
     "name": "stdout",
     "output_type": "stream",
     "text": [
      "10 <class 'int'>\n",
      "10 <class 'str'>\n"
     ]
    }
   ],
   "source": [
    "#Conversão int para str\n",
    "print(10, type(10))\n",
    "print(str(10), type(str(10)))"
   ]
  },
  {
   "cell_type": "code",
   "execution_count": 3,
   "metadata": {},
   "outputs": [
    {
     "name": "stdout",
     "output_type": "stream",
     "text": [
      "10 <class 'int'>\n",
      "True <class 'bool'>\n"
     ]
    }
   ],
   "source": [
    "#Conversão int para bool\n",
    "print(10, type(10))\n",
    "print(bool(10), type(bool(10)))"
   ]
  },
  {
   "cell_type": "code",
   "execution_count": 4,
   "metadata": {},
   "outputs": [
    {
     "name": "stdout",
     "output_type": "stream",
     "text": [
      "5.8 <class 'float'>\n",
      "5 <class 'int'>\n"
     ]
    }
   ],
   "source": [
    "#Conversão float para int\n",
    "print(5.8, type(5.8))\n",
    "print(int(5.8), type(int(5.8)))"
   ]
  },
  {
   "cell_type": "code",
   "execution_count": 5,
   "metadata": {},
   "outputs": [
    {
     "name": "stdout",
     "output_type": "stream",
     "text": [
      "5.8 <class 'float'>\n",
      "5.8 <class 'str'>\n"
     ]
    }
   ],
   "source": [
    "#Conversão float para str\n",
    "print(5.8, type(5.8))\n",
    "print(str(5.8), type(str(5.8)))"
   ]
  },
  {
   "cell_type": "code",
   "execution_count": 6,
   "metadata": {},
   "outputs": [
    {
     "name": "stdout",
     "output_type": "stream",
     "text": [
      "5.8 <class 'float'>\n",
      "True <class 'bool'>\n"
     ]
    }
   ],
   "source": [
    "#Conversão float para bool\n",
    "print(5.8, type(5.8))\n",
    "print(bool(5.8), type(bool(5.8)))"
   ]
  },
  {
   "cell_type": "code",
   "execution_count": 10,
   "metadata": {},
   "outputs": [
    {
     "name": "stdout",
     "output_type": "stream",
     "text": [
      "Data <class 'str'>\n",
      "100.55 <class 'str'>\n",
      "100 <class 'int'>\n"
     ]
    }
   ],
   "source": [
    "#Conversão str para int\n",
    "print(\"Data\", type(\"Data\"))\n",
    "'''print(int(\"Data\"), type(int(\"Data\")))''' #Não funcionar pois não é número ou possui valor atribuido.\n",
    "print(\"100\", type(\"100\"))\n",
    "print(int(\"100\"), type(int(\"100\")))\n",
    "#Não é possível conventer uma str númerica para int quando ela for um número fracional(float)"
   ]
  },
  {
   "cell_type": "code",
   "execution_count": 2,
   "metadata": {},
   "outputs": [
    {
     "name": "stdout",
     "output_type": "stream",
     "text": [
      "11.25 <class 'str'>\n",
      "11.25 <class 'float'>\n",
      "14 <class 'str'>\n",
      "14.0 <class 'float'>\n"
     ]
    }
   ],
   "source": [
    "#Conversão str para float\n",
    "print(\"11.25\", type(\"11.25\"))\n",
    "print(float(\"11.25\"), type(float(\"11.25\")))\n",
    "print(\"14\", type(\"14\"))\n",
    "print(float(\"14\"), type(float(\"14\")))"
   ]
  },
  {
   "cell_type": "code",
   "execution_count": 3,
   "metadata": {},
   "outputs": [
    {
     "name": "stdout",
     "output_type": "stream",
     "text": [
      "False <class 'str'>\n",
      "True <class 'bool'>\n"
     ]
    }
   ],
   "source": [
    "#Coversão str para bool\n",
    "print(\"False\", type(\"False\"))\n",
    "print(bool(\"False\"), type(bool(\"False\")))"
   ]
  },
  {
   "cell_type": "markdown",
   "metadata": {},
   "source": [
    "Na conversão de *bool* para *int* ou *float*, só será possível converter para **0** (False) ou **1** (True)."
   ]
  },
  {
   "cell_type": "code",
   "execution_count": 3,
   "metadata": {},
   "outputs": [
    {
     "name": "stdout",
     "output_type": "stream",
     "text": [
      "True <class 'bool'>\n",
      "False <class 'bool'>\n",
      "1 <class 'int'>\n",
      "0 <class 'int'>\n"
     ]
    }
   ],
   "source": [
    "#Coversão de bool para int\n",
    "bool_true = True\n",
    "bool_false = False\n",
    "\n",
    "print((bool_true), type(bool_true))\n",
    "print((bool_false), type(bool_false))\n",
    "\n",
    "print(int(bool_true), type(int(bool_true)))\n",
    "print(int(bool_false), type(int(bool_false)))"
   ]
  },
  {
   "cell_type": "code",
   "execution_count": 4,
   "metadata": {},
   "outputs": [
    {
     "name": "stdout",
     "output_type": "stream",
     "text": [
      "True <class 'bool'>\n",
      "False <class 'bool'>\n",
      "True <class 'str'>\n",
      "False <class 'str'>\n"
     ]
    }
   ],
   "source": [
    "#Coversão de bool para str\n",
    "bool_true = True\n",
    "bool_false = False\n",
    "\n",
    "print((bool_true), type(bool_true))\n",
    "print((bool_false), type(bool_false))\n",
    "\n",
    "print(str(bool_true), type(str(bool_true)))\n",
    "print(str(bool_false), type(str(bool_false)))"
   ]
  },
  {
   "cell_type": "code",
   "execution_count": 5,
   "metadata": {},
   "outputs": [
    {
     "name": "stdout",
     "output_type": "stream",
     "text": [
      "True <class 'bool'>\n",
      "False <class 'bool'>\n",
      "1.0 <class 'float'>\n",
      "0.0 <class 'float'>\n"
     ]
    }
   ],
   "source": [
    "#Coversão de bool para float\n",
    "bool_true = True\n",
    "bool_false = False\n",
    "\n",
    "print((bool_true), type(bool_true))\n",
    "print((bool_false), type(bool_false))\n",
    "\n",
    "print(float(bool_true), type(float(bool_true)))\n",
    "print(float(bool_false), type(float(bool_false)))"
   ]
  },
  {
   "cell_type": "markdown",
   "metadata": {},
   "source": [
    "# Listas"
   ]
  },
  {
   "cell_type": "markdown",
   "metadata": {},
   "source": [
    "As **Listas** são definida um conjunto de variaveis entre **[ ]**, pode contém *str*, *float* e *int*.\n",
    "\n",
    "*exemplo*: Lista01 = [\"Casa\", \"Carro\" ,\"Cachorro\", \"Cor\", 61, 5.5]\n",
    "\n",
    "O primeiro item da lista receber o número Zero e demais vão recebendo os números seguente, assim podemos acessar os itens de lista pelo seu número."
   ]
  },
  {
   "cell_type": "code",
   "execution_count": 8,
   "metadata": {},
   "outputs": [
    {
     "name": "stdout",
     "output_type": "stream",
     "text": [
      "61\n",
      "['Casa', 'Carro', 'Cachorro', 'Cor', 61]\n",
      "['livia', 'Carro', 'Cachorro', 'Cor', 61]\n",
      "['livia', 'Cachorro', 61]\n"
     ]
    }
   ],
   "source": [
    "Lista01 = [\"Casa\", \"Carro\" ,\"Cachorro\", \"Cor\", 61, 5.5]\n",
    "print(Lista01[4]) #mostrar um item determinado\n",
    "print(Lista01[0:5]) #mostra de tal a tal posição\n",
    "Lista01[0]= 'livia' #Alterar o valor do item da lista\n",
    "print(Lista01[0:5])\n",
    "print(Lista01[0:7:2]) #mostra de tal a tal com um certo salto'''"
   ]
  }
 ],
 "metadata": {
  "kernelspec": {
   "display_name": "Python 3",
   "language": "python",
   "name": "python3"
  },
  "language_info": {
   "codemirror_mode": {
    "name": "ipython",
    "version": 3
   },
   "file_extension": ".py",
   "mimetype": "text/x-python",
   "name": "python",
   "nbconvert_exporter": "python",
   "pygments_lexer": "ipython3",
   "version": "3.12.3"
  }
 },
 "nbformat": 4,
 "nbformat_minor": 2
}
